{
 "cells": [
  {
   "cell_type": "code",
   "execution_count": 45,
   "metadata": {},
   "outputs": [],
   "source": [
    "# Import libraries\n",
    "\n",
    "from fastai.tabular.all import *\n",
    "from pandas.api.types import CategoricalDtype\n",
    "import pandas as pd"
   ]
  },
  {
   "cell_type": "code",
   "execution_count": 46,
   "metadata": {},
   "outputs": [],
   "source": [
    "# Import data\n",
    "full_data_path = '/Users/emmetthintz/Documents/Computational-Biology/Data/GSE97154_Cleaned.csv'\n",
    "full_data = pd.read_csv(full_data_path)\n",
    "\n",
    "treated_data = full_data[full_data['Treatment'] == 1]\n",
    "\n",
    "train_path = '/Users/emmetthintz/Documents/Computational-Biology/Predictive Data/filtered_train_data.csv'\n",
    "test_path = '/Users/emmetthintz/Documents/Computational-Biology/Predictive Data/filtered_test_data.csv'\n",
    "\n",
    "train_df = pd.read_csv(train_path)\n",
    "test_df = pd.read_csv(test_path)\n",
    "\n",
    "train_df['Response'] = train_df['Response'].astype('category')"
   ]
  },
  {
   "cell_type": "code",
   "execution_count": 47,
   "metadata": {},
   "outputs": [
    {
     "data": {
      "text/html": [
       "<table border=\"1\" class=\"dataframe\">\n",
       "  <thead>\n",
       "    <tr style=\"text-align: right;\">\n",
       "      <th></th>\n",
       "      <th>hsa-miR-1180-3p</th>\n",
       "      <th>hsa-miR-146a-5p</th>\n",
       "      <th>hsa-miR-425-3p</th>\n",
       "      <th>hsa-miR-24-3p</th>\n",
       "      <th>hsa-miR-3074-5p</th>\n",
       "      <th>hsa-miR-215-5p</th>\n",
       "      <th>hsa-miR-503-5p</th>\n",
       "      <th>Response</th>\n",
       "    </tr>\n",
       "  </thead>\n",
       "  <tbody>\n",
       "    <tr>\n",
       "      <th>0</th>\n",
       "      <td>6.851387</td>\n",
       "      <td>5.676296</td>\n",
       "      <td>3.529446</td>\n",
       "      <td>5.422536</td>\n",
       "      <td>4.307064</td>\n",
       "      <td>6.131486</td>\n",
       "      <td>2.044044</td>\n",
       "      <td>1</td>\n",
       "    </tr>\n",
       "    <tr>\n",
       "      <th>1</th>\n",
       "      <td>6.949162</td>\n",
       "      <td>5.539283</td>\n",
       "      <td>4.316870</td>\n",
       "      <td>5.731944</td>\n",
       "      <td>4.731944</td>\n",
       "      <td>6.316888</td>\n",
       "      <td>1.409798</td>\n",
       "      <td>1</td>\n",
       "    </tr>\n",
       "    <tr>\n",
       "      <th>2</th>\n",
       "      <td>5.968298</td>\n",
       "      <td>6.330863</td>\n",
       "      <td>3.646393</td>\n",
       "      <td>5.423982</td>\n",
       "      <td>4.362610</td>\n",
       "      <td>5.482881</td>\n",
       "      <td>1.423847</td>\n",
       "      <td>1</td>\n",
       "    </tr>\n",
       "    <tr>\n",
       "      <th>3</th>\n",
       "      <td>6.563631</td>\n",
       "      <td>7.487278</td>\n",
       "      <td>5.051198</td>\n",
       "      <td>6.356038</td>\n",
       "      <td>5.008092</td>\n",
       "      <td>4.771093</td>\n",
       "      <td>3.285698</td>\n",
       "      <td>0</td>\n",
       "    </tr>\n",
       "    <tr>\n",
       "      <th>4</th>\n",
       "      <td>6.935189</td>\n",
       "      <td>8.005905</td>\n",
       "      <td>7.067026</td>\n",
       "      <td>7.432400</td>\n",
       "      <td>6.098201</td>\n",
       "      <td>3.928276</td>\n",
       "      <td>4.620117</td>\n",
       "      <td>1</td>\n",
       "    </tr>\n",
       "    <tr>\n",
       "      <th>5</th>\n",
       "      <td>7.428637</td>\n",
       "      <td>5.428645</td>\n",
       "      <td>4.428611</td>\n",
       "      <td>5.661294</td>\n",
       "      <td>4.691646</td>\n",
       "      <td>4.807149</td>\n",
       "      <td>1.107018</td>\n",
       "      <td>0</td>\n",
       "    </tr>\n",
       "    <tr>\n",
       "      <th>6</th>\n",
       "      <td>6.408287</td>\n",
       "      <td>6.277706</td>\n",
       "      <td>5.462739</td>\n",
       "      <td>6.029784</td>\n",
       "      <td>4.955778</td>\n",
       "      <td>5.638595</td>\n",
       "      <td>1.707966</td>\n",
       "      <td>1</td>\n",
       "    </tr>\n",
       "    <tr>\n",
       "      <th>7</th>\n",
       "      <td>6.532582</td>\n",
       "      <td>5.570038</td>\n",
       "      <td>3.454571</td>\n",
       "      <td>5.776499</td>\n",
       "      <td>4.808230</td>\n",
       "      <td>6.284644</td>\n",
       "      <td>0.284514</td>\n",
       "      <td>0</td>\n",
       "    </tr>\n",
       "    <tr>\n",
       "      <th>8</th>\n",
       "      <td>6.910913</td>\n",
       "      <td>6.273479</td>\n",
       "      <td>4.103581</td>\n",
       "      <td>5.714987</td>\n",
       "      <td>4.393073</td>\n",
       "      <td>5.840514</td>\n",
       "      <td>1.518535</td>\n",
       "      <td>1</td>\n",
       "    </tr>\n",
       "    <tr>\n",
       "      <th>9</th>\n",
       "      <td>6.751665</td>\n",
       "      <td>6.913727</td>\n",
       "      <td>6.319708</td>\n",
       "      <td>6.319708</td>\n",
       "      <td>5.083639</td>\n",
       "      <td>5.424687</td>\n",
       "      <td>3.176801</td>\n",
       "      <td>1</td>\n",
       "    </tr>\n",
       "  </tbody>\n",
       "</table>"
      ],
      "text/plain": [
       "<IPython.core.display.HTML object>"
      ]
     },
     "metadata": {},
     "output_type": "display_data"
    }
   ],
   "source": [
    "# Define categorical variables\n",
    "cat_cols = []\n",
    "cont_cols = [col for col in train_df.columns if col not in ['Participant ID', 'Response']]\n",
    "\n",
    "# Define DataLoaders\n",
    "dls = TabularDataLoaders.from_df(train_df, path=\".\", y_names=\"Response\",\n",
    "                                 cat_names=cat_cols, cont_names=cont_cols, procs=[Normalize],\n",
    "                                 y_block=CategoryBlock(), # Explicitly specifying a classification task\n",
    "                                 bs=64, valid_idx=list(range(len(train_df)-int(len(train_df)*0.2), len(train_df))))\n",
    "\n",
    "\n",
    "# Check one batch of data\n",
    "dls.show_batch()"
   ]
  },
  {
   "cell_type": "code",
   "execution_count": 48,
   "metadata": {},
   "outputs": [],
   "source": [
    "# Train the model\n",
    "\n",
    "learn = tabular_learner(dls, layers=[200,100], metrics=accuracy)"
   ]
  },
  {
   "cell_type": "code",
   "execution_count": 49,
   "metadata": {},
   "outputs": [
    {
     "data": {
      "text/html": [],
      "text/plain": [
       "<IPython.core.display.HTML object>"
      ]
     },
     "metadata": {},
     "output_type": "display_data"
    },
    {
     "data": {
      "text/plain": [
       "SuggestedLRs(valley=0.0010000000474974513)"
      ]
     },
     "execution_count": 49,
     "metadata": {},
     "output_type": "execute_result"
    },
    {
     "data": {
      "image/png": "[encoded data removed]",
      "text/plain": [
       "<Figure size 640x480 with 1 Axes>"
      ]
     },
     "metadata": {},
     "output_type": "display_data"
    }
   ],
   "source": [
    "learn.lr_find()"
   ]
  },
  {
   "cell_type": "code",
   "execution_count": 50,
   "metadata": {},
   "outputs": [
    {
     "data": {
      "text/html": [
       "<table border=\"1\" class=\"dataframe\">\n",
       "  <thead>\n",
       "    <tr style=\"text-align: left;\">\n",
       "      <th>epoch</th>\n",
       "      <th>train_loss</th>\n",
       "      <th>valid_loss</th>\n",
       "      <th>accuracy</th>\n",
       "      <th>time</th>\n",
       "    </tr>\n",
       "  </thead>\n",
       "  <tbody>\n",
       "    <tr>\n",
       "      <td>0</td>\n",
       "      <td>0.751913</td>\n",
       "      <td>0.667020</td>\n",
       "      <td>0.673913</td>\n",
       "      <td>00:00</td>\n",
       "    </tr>\n",
       "    <tr>\n",
       "      <td>1</td>\n",
       "      <td>0.747465</td>\n",
       "      <td>0.655100</td>\n",
       "      <td>0.608696</td>\n",
       "      <td>00:00</td>\n",
       "    </tr>\n",
       "    <tr>\n",
       "      <td>2</td>\n",
       "      <td>0.737151</td>\n",
       "      <td>0.686278</td>\n",
       "      <td>0.641304</td>\n",
       "      <td>00:00</td>\n",
       "    </tr>\n",
       "    <tr>\n",
       "      <td>3</td>\n",
       "      <td>0.715220</td>\n",
       "      <td>0.677469</td>\n",
       "      <td>0.619565</td>\n",
       "      <td>00:00</td>\n",
       "    </tr>\n",
       "    <tr>\n",
       "      <td>4</td>\n",
       "      <td>0.699510</td>\n",
       "      <td>0.675172</td>\n",
       "      <td>0.641304</td>\n",
       "      <td>00:00</td>\n",
       "    </tr>\n",
       "  </tbody>\n",
       "</table>"
      ],
      "text/plain": [
       "<IPython.core.display.HTML object>"
      ]
     },
     "metadata": {},
     "output_type": "display_data"
    }
   ],
   "source": [
    "learn.fit_one_cycle(5, 1e-2)"
   ]
  },
  {
   "cell_type": "code",
   "execution_count": 51,
   "metadata": {},
   "outputs": [
    {
     "data": {
      "text/html": [],
      "text/plain": [
       "<IPython.core.display.HTML object>"
      ]
     },
     "metadata": {},
     "output_type": "display_data"
    },
    {
     "data": {
      "text/html": [
       "<table border=\"1\" class=\"dataframe\">\n",
       "  <thead>\n",
       "    <tr style=\"text-align: right;\">\n",
       "      <th></th>\n",
       "      <th>hsa-miR-1180-3p</th>\n",
       "      <th>hsa-miR-146a-5p</th>\n",
       "      <th>hsa-miR-425-3p</th>\n",
       "      <th>hsa-miR-24-3p</th>\n",
       "      <th>hsa-miR-3074-5p</th>\n",
       "      <th>hsa-miR-215-5p</th>\n",
       "      <th>hsa-miR-503-5p</th>\n",
       "      <th>Response</th>\n",
       "      <th>Response_pred</th>\n",
       "    </tr>\n",
       "  </thead>\n",
       "  <tbody>\n",
       "    <tr>\n",
       "      <th>0</th>\n",
       "      <td>-0.169357</td>\n",
       "      <td>0.042543</td>\n",
       "      <td>-0.816136</td>\n",
       "      <td>-0.065390</td>\n",
       "      <td>0.255773</td>\n",
       "      <td>1.685644</td>\n",
       "      <td>-0.462715</td>\n",
       "      <td>1.0</td>\n",
       "      <td>1.0</td>\n",
       "    </tr>\n",
       "    <tr>\n",
       "      <th>1</th>\n",
       "      <td>-1.331862</td>\n",
       "      <td>-1.199413</td>\n",
       "      <td>-1.025382</td>\n",
       "      <td>-1.096542</td>\n",
       "      <td>-0.752294</td>\n",
       "      <td>0.945181</td>\n",
       "      <td>-1.515272</td>\n",
       "      <td>1.0</td>\n",
       "      <td>1.0</td>\n",
       "    </tr>\n",
       "    <tr>\n",
       "      <th>2</th>\n",
       "      <td>0.214639</td>\n",
       "      <td>-0.212570</td>\n",
       "      <td>-0.427612</td>\n",
       "      <td>-0.038386</td>\n",
       "      <td>0.217516</td>\n",
       "      <td>-1.752881</td>\n",
       "      <td>0.486259</td>\n",
       "      <td>1.0</td>\n",
       "      <td>0.0</td>\n",
       "    </tr>\n",
       "    <tr>\n",
       "      <th>3</th>\n",
       "      <td>-0.384178</td>\n",
       "      <td>-0.400860</td>\n",
       "      <td>-0.503440</td>\n",
       "      <td>-0.623102</td>\n",
       "      <td>-0.769727</td>\n",
       "      <td>1.442522</td>\n",
       "      <td>-0.316845</td>\n",
       "      <td>0.0</td>\n",
       "      <td>1.0</td>\n",
       "    </tr>\n",
       "    <tr>\n",
       "      <th>4</th>\n",
       "      <td>0.130256</td>\n",
       "      <td>-1.382661</td>\n",
       "      <td>-1.085331</td>\n",
       "      <td>-1.541594</td>\n",
       "      <td>-0.979890</td>\n",
       "      <td>0.579055</td>\n",
       "      <td>-0.620856</td>\n",
       "      <td>1.0</td>\n",
       "      <td>1.0</td>\n",
       "    </tr>\n",
       "    <tr>\n",
       "      <th>5</th>\n",
       "      <td>-0.136718</td>\n",
       "      <td>-1.072855</td>\n",
       "      <td>-0.653969</td>\n",
       "      <td>-0.627710</td>\n",
       "      <td>-0.459829</td>\n",
       "      <td>0.312713</td>\n",
       "      <td>-1.205902</td>\n",
       "      <td>1.0</td>\n",
       "      <td>1.0</td>\n",
       "    </tr>\n",
       "    <tr>\n",
       "      <th>6</th>\n",
       "      <td>4.715331</td>\n",
       "      <td>-0.138241</td>\n",
       "      <td>2.121138</td>\n",
       "      <td>2.086364</td>\n",
       "      <td>2.264063</td>\n",
       "      <td>-2.685847</td>\n",
       "      <td>1.369427</td>\n",
       "      <td>1.0</td>\n",
       "      <td>1.0</td>\n",
       "    </tr>\n",
       "    <tr>\n",
       "      <th>7</th>\n",
       "      <td>3.483759</td>\n",
       "      <td>1.900607</td>\n",
       "      <td>1.612752</td>\n",
       "      <td>0.438497</td>\n",
       "      <td>0.435191</td>\n",
       "      <td>0.227099</td>\n",
       "      <td>0.932308</td>\n",
       "      <td>0.0</td>\n",
       "      <td>1.0</td>\n",
       "    </tr>\n",
       "    <tr>\n",
       "      <th>8</th>\n",
       "      <td>-1.038986</td>\n",
       "      <td>-1.240821</td>\n",
       "      <td>-1.078941</td>\n",
       "      <td>-0.837422</td>\n",
       "      <td>-0.887597</td>\n",
       "      <td>-0.454279</td>\n",
       "      <td>0.008509</td>\n",
       "      <td>1.0</td>\n",
       "      <td>1.0</td>\n",
       "    </tr>\n",
       "  </tbody>\n",
       "</table>"
      ],
      "text/plain": [
       "<IPython.core.display.HTML object>"
      ]
     },
     "metadata": {},
     "output_type": "display_data"
    }
   ],
   "source": [
    "learn.show_results()"
   ]
  },
  {
   "cell_type": "code",
   "execution_count": 52,
   "metadata": {},
   "outputs": [
    {
     "data": {
      "text/html": [],
      "text/plain": [
       "<IPython.core.display.HTML object>"
      ]
     },
     "metadata": {},
     "output_type": "display_data"
    },
    {
     "data": {
      "text/html": [],
      "text/plain": [
       "<IPython.core.display.HTML object>"
      ]
     },
     "metadata": {},
     "output_type": "display_data"
    },
    {
     "data": {
      "image/png": "[encoded data removed]",
      "text/plain": [
       "<Figure size 640x480 with 1 Axes>"
      ]
     },
     "metadata": {},
     "output_type": "display_data"
    }
   ],
   "source": [
    "interp = ClassificationInterpretation.from_learner(learn)\n",
    "interp.plot_confusion_matrix()"
   ]
  },
  {
   "cell_type": "code",
   "execution_count": 53,
   "metadata": {},
   "outputs": [
    {
     "data": {
      "text/html": [],
      "text/plain": [
       "<IPython.core.display.HTML object>"
      ]
     },
     "metadata": {},
     "output_type": "display_data"
    }
   ],
   "source": [
    "preds, targets = learn.get_preds(dl=dls.test_dl(test_df))"
   ]
  },
  {
   "cell_type": "markdown",
   "metadata": {},
   "source": [
    "# Make Predictions"
   ]
  },
  {
   "cell_type": "code",
   "execution_count": 54,
   "metadata": {},
   "outputs": [
    {
     "data": {
      "text/html": [],
      "text/plain": [
       "<IPython.core.display.HTML object>"
      ]
     },
     "metadata": {},
     "output_type": "display_data"
    }
   ],
   "source": [
    "test_dl = dls.test_dl(test_df)\n",
    "\n",
    "preds, _ = learn.get_preds(dl=test_dl)"
   ]
  },
  {
   "cell_type": "code",
   "execution_count": 55,
   "metadata": {},
   "outputs": [],
   "source": [
    "class_preds = (preds[:, 1] > 0.5).int()"
   ]
  },
  {
   "cell_type": "code",
   "execution_count": 56,
   "metadata": {},
   "outputs": [
    {
     "name": "stdout",
     "output_type": "stream",
     "text": [
      "Test Accuracy: 0.5961538461538461\n"
     ]
    }
   ],
   "source": [
    "from sklearn.metrics import accuracy_score\n",
    "\n",
    "actual_labels = test_df['Response'].to_numpy()\n",
    "predicted_labels = class_preds.numpy()\n",
    "\n",
    "accuracy = accuracy_score(actual_labels, predicted_labels)\n",
    "print(f'Test Accuracy: {accuracy}')"
   ]
  }
 ],
 "metadata": {
  "kernelspec": {
   "display_name": "myenv",
   "language": "python",
   "name": "python3"
  },
  "language_info": {
   "codemirror_mode": {
    "name": "ipython",
    "version": 3
   },
   "file_extension": ".py",
   "mimetype": "text/x-python",
   "name": "python",
   "nbconvert_exporter": "python",
   "pygments_lexer": "ipython3",
   "version": "3.10.8"
  }
 },
 "nbformat": 4,
 "nbformat_minor": 2
}
